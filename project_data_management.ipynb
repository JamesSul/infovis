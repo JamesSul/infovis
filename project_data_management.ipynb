{
 "metadata": {
  "name": ""
 },
 "nbformat": 3,
 "nbformat_minor": 0,
 "worksheets": [
  {
   "cells": [
    {
     "cell_type": "markdown",
     "metadata": {},
     "source": [
      "## Olympic data management steps\n",
      "This is a quick walkthrough of how I would handle managing the data for this assignment using the tool I normally use for this at work -- Python. Before we get too far into this, I want to define the datasets and sources I will be using. This whole walkthrough shows a lot of code which you can ignore if it makes no sense to you. The steps I'm taking conceptually might help you with your own assignments and I will talk about how I might do some of this in Excel.\n",
      "\n",
      "*note: this is not a tutorial, nor is it an introduction to python. The purpose is two-fold: first, to show you some of the steps involved in preparing data for visualization; second, to show you how much quicker data management is if you know a programming language like Python. Do not try to install python*\n",
      "\n",
      "I will use the following datasets:\n",
      "\n",
      "* HistoricWinterOlympicMedals.csv - I simply saved the Excel file from the assignment as a csv file.\n",
      "* OlympicMedalsbyEvent2014.csv - saved to csv from Excel as well.\n",
      "* olympic_medals_2010.csv - I scraped this from [this wikipedia page](http://en.wikipedia.org/wiki/2010_Winter_Olympics_medal_table)\n",
      "* country_codes.csv - for converting olympic IOC country codes to the ISO3 country codes used by the World Bank ([scraped from here](http://data.okfn.org/data/country-codes))\n",
      "* noclist.csv - a list of country noc codes and their names ([scraped from wikipedia](http://en.wikipedia.org/wiki/List_of_IOC_country_codes))\n",
      "* the [World Bank Data API](http://data.worldbank.org/developers) for directly getting data from the world bank. I'm actually using the wbdata library for this and will get annual population data by country.\n",
      "\n",
      "Ultimately, I want to export a csv file to use in Tableau that has country, noc(the national olympic committee code for that country), year, medal (i.e., gold, silver, bronze), count of medal, and population.\n",
      "\n",
      "In step 1, I am simply importing the libraries I'm going to use. Pandas is a Python library that allows me to work with data in a dataframe (think of a spreadsheet). Numpy is a scientific library that I'll use for some data structure conversion and melt allows me to transform the data. Each \"step\" is labeled as in for input. Step 1 has no Excel equivalent."
     ]
    },
    {
     "cell_type": "code",
     "collapsed": false,
     "input": [
      "# import libraries\n",
      "import pandas as pd\n",
      "import numpy as np\n",
      "from pandas.core.reshape import melt"
     ],
     "language": "python",
     "metadata": {},
     "outputs": [],
     "prompt_number": 1
    },
    {
     "cell_type": "markdown",
     "metadata": {},
     "source": [
      "In step 2, I define a procedure to take spaces and hyphens out of any column name. I also make them lower case. Even in Excel, having a consistent naming convention for your column headings makes your life far easier. You would do this in Excel by manually editing the column headings."
     ]
    },
    {
     "cell_type": "code",
     "collapsed": false,
     "input": [
      "path = '/Users/suleiman/Dropbox/School/infovis/project/files/'\n",
      "def readAndConvert(filename):\n",
      "    data = pd.read_csv(path + filename)\n",
      "    data.rename(columns = lambda x: x.replace(' ', '').lower(), inplace=True)\n",
      "    data.rename(columns = lambda x: x.replace('-', '').lower(), inplace=True)\n",
      "    return data"
     ],
     "language": "python",
     "metadata": {},
     "outputs": [],
     "prompt_number": 2
    },
    {
     "cell_type": "markdown",
     "metadata": {},
     "source": [
      "In step 3, I actually read in the data using the procedure I created in step 2. I then aggregate the data by year noc and medal. The assignment calls for country specific demographic information so I'm not really concerned with individual events or athletes. If I was, I would have far more work to do. In Excel, I could fairly easily do the equivalent aggregation using a pivot table. If you don't know how to create a pivot table there are thousands of youtube videos on this. In my opinion, everyone working with Excel should know how to use pivot tables.\n",
      "\n",
      "After I aggregate the data, I print the head of the dataframe (i.e., the column headings and the first 5 rows). Don't get too caught up in the syntax here...look at the output below. When you work with data you will spend a lot of time 'sanity checking' your data to check for validity. In this whole walkthrough I am oversimplifying the sanity checks and, in reality, would do far more of this.\n",
      "\n",
      "One of the things that should jump out at you is that I don't actually have the country names. Tableau will likely have issues translating the national olympic committee (noc) code to a country so I have to find some sort of lookup table to do this."
     ]
    },
    {
     "cell_type": "code",
     "collapsed": false,
     "input": [
      "historic_medals = readAndConvert('HistoricWinterOlympicMedals.csv')\n",
      "historic_medals = pd.DataFrame(\n",
      "    {'count': historic_medals[['year','noc','medal']].groupby(\n",
      "    ['year','noc','medal']).size()}).reset_index()\n",
      "print 'historic medals file\\n', historic_medals.head().to_string(), '\\n'"
     ],
     "language": "python",
     "metadata": {},
     "outputs": [
      {
       "output_type": "stream",
       "stream": "stdout",
       "text": [
        "historic medals file\n",
        "   year  noc   medal  count\n",
        "0  1924  AUT    Gold      2\n",
        "1  1924  AUT  Silver      1\n",
        "2  1924  BEL  Bronze      1\n",
        "3  1924  CAN    Gold      1\n",
        "4  1924  FIN  Bronze      3 \n",
        "\n"
       ]
      }
     ],
     "prompt_number": 3
    },
    {
     "cell_type": "markdown",
     "metadata": {},
     "source": [
      "Step 4, reads in the lookup list I'm going to get country name from. As I stated earlier, I scraped this from wikipedia. Here I'm just reading it into a dataset and taking a peek at the first five rows of data."
     ]
    },
    {
     "cell_type": "code",
     "collapsed": false,
     "input": [
      "noclist = readAndConvert('noclist.csv')\n",
      "print 'noclist\\n', noclist.head().to_string(), '\\n'"
     ],
     "language": "python",
     "metadata": {},
     "outputs": [
      {
       "output_type": "stream",
       "stream": "stdout",
       "text": [
        "noclist\n",
        "                                             country  noc\n",
        "0  International Olympic Athlete (East Timor in 2...  IOA\n",
        "1                    Afghanistan (suspended in 2000)  AFG\n",
        "2                                            Albania  ALB\n",
        "3                                            Algeria  ALG\n",
        "4                                     American Samoa  ASA \n",
        "\n"
       ]
      }
     ],
     "prompt_number": 4
    },
    {
     "cell_type": "markdown",
     "metadata": {},
     "source": [
      "Step 5, joins the noclist data to my historical data so I can now get the country name. You can use [VLOOKUP() in Excel](http://stackoverflow.com/questions/4160243/join-two-spreadsheets-on-a-common-column-in-excel-or-openoffice) to perform a similar type of join. I am performing another sanity check here because I know, over time, countries change. For example, there is no more Soviet Union and we now have Mother Russia (or Russia and Crimea). In several more years, the Ukraine may also be part of Russia because, as we all know, [the Ukraine is weak](https://www.youtube.com/watch?v=fzLtF_PxbYw).\n",
      "\n",
      "Anyhow, given that this assignment didn't specify that I must use all prior years, I want to get a sense of how many countries that have medaled in the winter olympics have changed and when was the most recent change. I see that EUN and TCH were the last major changes. We can deal with this later but I'll make an executive decision now that my final data set will be from the 1994 olympics onward. If this weren't a school assignment I would probably have to spend more time thinking about how to handle this. The sanity checking here can also be accomplished in Excel by sorts and pivot tables."
     ]
    },
    {
     "cell_type": "code",
     "collapsed": false,
     "input": [
      "historic_medals = pd.merge(historic_medals, noclist, on='noc', how='left')\n",
      "unknowns = historic_medals[historic_medals.country.isnull()]['noc'].unique().tolist()\n",
      "print 'nocs without countries: historic\\n',\\\n",
      "    historic_medals[historic_medals['noc'].isin(unknowns)].groupby(\n",
      "    ['noc']).max()['year'], '\\n'"
     ],
     "language": "python",
     "metadata": {},
     "outputs": [
      {
       "output_type": "stream",
       "stream": "stdout",
       "text": [
        "nocs without countries: historic\n",
        "noc\n",
        "EUA    1964\n",
        "EUN    1992\n",
        "FRG    1988\n",
        "GDR    1988\n",
        "ROU    1968\n",
        "TCH    1992\n",
        "URS    1988\n",
        "YUG    1988\n",
        "Name: year, dtype: float64 \n",
        "\n"
       ]
      }
     ],
     "prompt_number": 5
    },
    {
     "cell_type": "markdown",
     "metadata": {},
     "source": [
      "In step 6, I read in the 2014 olympic data, drop the data I know I'm not going to use, and have a peak. One thing that jumps out at me is I'm going to have to change how the medals are labeled (e.g., change 'G' to 'Gold'). I can do this in Excel using Find and Replace. You should also notice that the 2014 data doesn't have the noc code and it doesn't have the year (2014)."
     ]
    },
    {
     "cell_type": "code",
     "collapsed": false,
     "input": [
      "data_2014 = readAndConvert('OlympicMedalsByEvent2014.csv')\n",
      "data_2014 = data_2014.drop(['event','sport','athlete/team','date'], axis = 1)\n",
      "print '2014 data\\n', data_2014.head().to_string(), '\\n'"
     ],
     "language": "python",
     "metadata": {},
     "outputs": [
      {
       "output_type": "stream",
       "stream": "stdout",
       "text": [
        "2014 data\n",
        "  medal         country\n",
        "0     G          Norway\n",
        "1     S         Austria\n",
        "2     B  Czech Republic\n",
        "3     G          Norway\n",
        "4     S          Sweden \n",
        "\n"
       ]
      }
     ],
     "prompt_number": 6
    },
    {
     "cell_type": "markdown",
     "metadata": {},
     "source": [
      "Step 7 performs the same type of aggregation we performed in step 3 and merge the data with the noclist like we did in step 5. I also add a year column and set all the values to 2014.\n",
      "\n",
      "My sanity check here is to look for countries without nocs. Once again, VLOOKUP(), pivot tables, and sorts would be your friends in Excel. Here we have three country names that don't match what is in the noc table. Looking at the three countries, I'm fairly certain it is the way country is stored in the 2014 data.\n",
      "\n",
      "Another item worth mentioning here is that when working with data files, you are often performing outer joins. If you work with multiple sources of data, you will only benefit by learning [what joins are](http://en.wikipedia.org/wiki/Join_(SQL)) and how to do these in whatever tool you are using. We covered some joins in Tableau this semester."
     ]
    },
    {
     "cell_type": "code",
     "collapsed": false,
     "input": [
      "data_2014 = pd.DataFrame({'count': data_2014[['country','medal']].groupby(['country','medal']).size()}).reset_index()\n",
      "data_2014['year'] = 2014\n",
      "data_2014 = pd.merge(data_2014, noclist, on='country', how='left')\n",
      "print '2014 countries without nocs', \\\n",
      "    data_2014[data_2014.noc.isnull()]['country'].unique().tolist(), \\\n",
      "    '\\n'"
     ],
     "language": "python",
     "metadata": {},
     "outputs": [
      {
       "output_type": "stream",
       "stream": "stdout",
       "text": [
        "2014 countries without nocs ['Great Britain', 'Korea', 'Russian Fed.'] \n",
        "\n"
       ]
      }
     ],
     "prompt_number": 7
    },
    {
     "cell_type": "markdown",
     "metadata": {},
     "source": [
      "Because I have to modify the country names in the 2014 data for the three countries in question I might be inclined to make the changes before I do the join in step 7. My preference is to keep the logic in tact and effectively undo the join I did in step 7 by deleting the noc column in step 8. I then replace the country names with the proper names (once again, in Excel I would use Find/Replace) and rejoin the data. While I'm here, I also choose to fix the medal values."
     ]
    },
    {
     "cell_type": "code",
     "collapsed": false,
     "input": [
      "data_2014.drop(['noc'], axis = 1, inplace = True)\n",
      "data_2014['country'].replace('Great Britain', 'United Kingdom (Great Britain)', inplace = True)\n",
      "data_2014['country'].replace('Korea', 'Korea, South', inplace = True)\n",
      "data_2014['country'].replace('Russian Fed.','Russia', inplace = True)\n",
      "data_2014 = pd.merge(data_2014, noclist, on='country', how='left')\n",
      "data_2014['medal'].replace('B', 'Bronze', inplace = True)\n",
      "data_2014['medal'].replace('S', 'Silver', inplace = True)\n",
      "data_2014['medal'].replace('G', 'Gold', inplace = True)"
     ],
     "language": "python",
     "metadata": {},
     "outputs": [],
     "prompt_number": 8
    },
    {
     "cell_type": "markdown",
     "metadata": {},
     "source": [
      "After I read in the 2010 data in step 9, I realize that this file is somewhat different. It has noc and no country name like the historic data but is already aggregated and is in a wide format that I don't think I want to use. I also don't think I want to calculate use medal totals and can always calculate in Tableau or later in this program. Finally I notice that my procedure has made the medal names all lowercase and I don't have the year (2010) anywhere in the dataset."
     ]
    },
    {
     "cell_type": "code",
     "collapsed": false,
     "input": [
      "data_2010 = readAndConvert('olympic_medals_2010.csv')\n",
      "print '2010 data\\n', data_2010.head().to_string(), '\\n'"
     ],
     "language": "python",
     "metadata": {},
     "outputs": [
      {
       "output_type": "stream",
       "stream": "stdout",
       "text": [
        "2010 data\n",
        "   noc  gold  silver  bronze  total\n",
        "0  CAN    14       7       5     26\n",
        "1  GER    10      13       7     30\n",
        "2  USA     9      15      13     37\n",
        "3  NOR     9       8       6     23\n",
        "4  KOR     6       6       2     14 \n",
        "\n"
       ]
      }
     ],
     "prompt_number": 9
    },
    {
     "cell_type": "markdown",
     "metadata": {},
     "source": [
      "In step 10, I transpose the data from wide to long. We've done this in class using OpenRefine. You really wouldn't want to attempt this in Excel, but if you aren't too keen on using OpenRefine, there is a [Tableau addin](http://kb.tableausoftware.com/articles/knowledgebase/addin-reshaping-data-excel) for this."
     ]
    },
    {
     "cell_type": "code",
     "collapsed": false,
     "input": [
      "data_2010 = data_2010.drop(['total'], axis = 1)\n",
      "data_2010 = melt(data_2010, id_vars=['noc'], var_name = 'medal', value_name = 'count')"
     ],
     "language": "python",
     "metadata": {},
     "outputs": [],
     "prompt_number": 10
    },
    {
     "cell_type": "markdown",
     "metadata": {},
     "source": [
      "Step 11 adds the year, changes the medal values, and merges to get country name. We've done all of this before so I won't spend time on it. I also do a sanity check to see if I am missing any countries but I am greeted with the empty set, which means all is good."
     ]
    },
    {
     "cell_type": "code",
     "collapsed": false,
     "input": [
      "data_2010['year'] = 2010\n",
      "data_2010 = pd.merge(data_2010, noclist, on='noc', how='left')\n",
      "print '2010 nocs without countries', \\\n",
      "    data_2014[data_2010.country.isnull()]['noc'].unique(), '\\n'\n",
      "data_2010['medal'].replace('bronze', 'Bronze', inplace = True)\n",
      "data_2010['medal'].replace('silver', 'Silver', inplace = True)\n",
      "data_2010['medal'].replace('gold', 'Gold', inplace = True)"
     ],
     "language": "python",
     "metadata": {},
     "outputs": [
      {
       "output_type": "stream",
       "stream": "stdout",
       "text": [
        "2010 nocs without countries [] \n",
        "\n"
       ]
      },
      {
       "output_type": "stream",
       "stream": "stderr",
       "text": [
        "/Users/suleiman/anaconda/lib/python2.7/site-packages/pandas/core/frame.py:1686: UserWarning: Boolean Series key will be reindexed to match DataFrame index.\n",
        "  \"DataFrame index.\", UserWarning)\n"
       ]
      }
     ],
     "prompt_number": 11
    },
    {
     "cell_type": "markdown",
     "metadata": {},
     "source": [
      "So now I have a feeling of accomplishment. I've prepared all the olympic medal data and just need to merge it. Before I do that, I print out the first five rows of each dataset to see that the column names are the same and they contain the same type of data (order doesn't really matter here but if we were working with Excel it would and I would be cutting and pasting columns to get them to line up)."
     ]
    },
    {
     "cell_type": "code",
     "collapsed": false,
     "input": [
      "print 'data to be merged: historic, 2010, 2014\\n'\n",
      "print historic_medals.head().to_string()\n",
      "print data_2010.head().to_string()\n",
      "print data_2014.head().to_string(), '\\n'"
     ],
     "language": "python",
     "metadata": {},
     "outputs": [
      {
       "output_type": "stream",
       "stream": "stdout",
       "text": [
        "data to be merged: historic, 2010, 2014\n",
        "\n",
        "   year  noc   medal  count  country\n",
        "0  1924  AUT    Gold      2  Austria\n",
        "1  1924  AUT  Silver      1  Austria\n",
        "2  1928  AUT  Bronze      1  Austria\n",
        "3  1928  AUT  Silver      3  Austria\n",
        "4  1932  AUT    Gold      1  Austria\n",
        "   noc   medal  count  year  country\n",
        "0  CAN    Gold     14  2010   Canada\n",
        "1  CAN  Silver      7  2010   Canada\n",
        "2  CAN  Bronze      5  2010   Canada\n",
        "3  GER    Gold     10  2010  Germany\n",
        "4  GER  Silver     13  2010  Germany\n",
        "     country   medal  count  year  noc\n",
        "0  Australia  Bronze      1  2014  AUS\n",
        "1  Australia  Silver      2  2014  AUS\n",
        "2    Austria  Bronze      5  2014  AUT\n",
        "3    Austria    Gold      4  2014  AUT\n",
        "4    Austria  Silver      8  2014  AUT \n",
        "\n"
       ]
      }
     ],
     "prompt_number": 12
    },
    {
     "cell_type": "markdown",
     "metadata": {},
     "source": [
      "Now (step 13) I simply merge the data. In Excel, this would be accomplished via cut/copy and paste."
     ]
    },
    {
     "cell_type": "code",
     "collapsed": false,
     "input": [
      "data = pd.concat([historic_medals, data_2010, data_2014], axis = 0)"
     ],
     "language": "python",
     "metadata": {},
     "outputs": [],
     "prompt_number": 13
    },
    {
     "cell_type": "markdown",
     "metadata": {},
     "source": [
      "I've got all my medal data and it is in the desired format. In a little while I'm going to be directly making a query to the World Bank to get population data for each country. Before that, there are a few things I need to know about the world bank requests.\n",
      "\n",
      "* they recognize the noc code and I will likely have a great many problems if I try to use country name.\n",
      "* they use ISO codes (2 or 3 digit) for countries. I have a the country_codes file I mentioned at the beginning to serve as a lookup to get an ISO country code from the noc code.\n",
      "* they have thousands of demographic variables, some are by year, some by other timeframes. I'm choosing population because it is safe and should be fairly recent. I know it won't go up to 2014 but I can get pretty close.\n",
      "\n",
      "Step 14, reads in my conversion table, changes the column names to things I am familiar with and effectively creates my lookup dataset."
     ]
    },
    {
     "cell_type": "code",
     "collapsed": false,
     "input": [
      "ioc_iso = readAndConvert('country-codes.csv')\n",
      "ioc_iso = ioc_iso[['iso31661alpha3', 'ioc', 'name']]\n",
      "ioc_iso.rename(columns={'ioc':'noc'}, inplace=True)\n",
      "ioc_iso.rename(columns={'iso31661alpha3':'iso3'}, inplace=True)\n",
      "print 'ioc_iso table\\n', ioc_iso.head().to_string(), '\\n'"
     ],
     "language": "python",
     "metadata": {},
     "outputs": [
      {
       "output_type": "stream",
       "stream": "stdout",
       "text": [
        "ioc_iso table\n",
        "  iso3  noc            name\n",
        "0  AFG  AFG     Afghanistan\n",
        "1  ALB  ALB         Albania\n",
        "2  DZA  ALG         Algeria\n",
        "3  ASM  ASA  American Samoa\n",
        "4  AND  AND         Andorra \n",
        "\n"
       ]
      }
     ],
     "prompt_number": 14
    },
    {
     "cell_type": "markdown",
     "metadata": {},
     "source": [
      "Remember in step 5, we said we were going to use data after 1992 only. Before I make my world bank data request would be the best time to restrict the dataset so I'm not pulling for countries from prior to 1992 that I'm not going to analyze and may not exist. Step 15 performs that restriction and adds the ISO code to my data table. I won't need this code for Tableau so eventually I'll delete it again. After I do the lookup I check if any nocs were not matched...since I get the empty set, I know it worked out ok."
     ]
    },
    {
     "cell_type": "code",
     "collapsed": false,
     "input": [
      "data = data[data['year'] > 1992]\n",
      "data = pd.merge(data, ioc_iso, on='noc', how='left')\n",
      "print 'nocs without iso codes', \\\n",
      "    data[data.iso3.isnull()]['noc'].unique(), '\\n'"
     ],
     "language": "python",
     "metadata": {},
     "outputs": [
      {
       "output_type": "stream",
       "stream": "stdout",
       "text": [
        "nocs without iso codes [] \n",
        "\n"
       ]
      }
     ],
     "prompt_number": 15
    },
    {
     "cell_type": "markdown",
     "metadata": {},
     "source": [
      "Now I'm ready to get my population data. To be perfectly honest, it would probably be easier for me to go to the world bank and download all population data from all countries for all years to a csv file and then join it here but I want to illustrate that many data sources have an application programming interface (API) that allows you to make online requests from directly within your program to the data source. The world bank does indeed have an API but I'm using the wbdata library to act as a helper app so I don't have to deal will all the complexity of the API.\n",
      "\n",
      "In step 16, I simply send the request using the `get_dataframe()` procedure using my list of countries iso codes and the indicator I want -- population, which is called `SP.POP.TOTL`. There are literally [hundreds of world bank data indicators](http://data.worldbank.org/indicator). You'll notice the population data only runs through 2012.\n",
      "\n",
      "One of the issues with using the wbdata helper library is that it doesn't return the ISO codes. I know have country names that may or may not be identical to my olympic data country names."
     ]
    },
    {
     "cell_type": "code",
     "collapsed": false,
     "input": [
      "import wbdata\n",
      "c_code = list(data['iso3'].unique())\n",
      "indicators = {'SP.POP.TOTL':'population'}\n",
      "pop = wbdata.get_dataframe(indicators, country = c_code, convert_date=False)\n",
      "pop = pd.DataFrame(pop).reset_index().rename(columns={\"index\": \"item\"})\n",
      "pop = pop[np.isfinite(pop['population'])] #all population through 2012\n",
      "print 'world bank data\\n', pop.head().to_string(), '\\n'"
     ],
     "language": "python",
     "metadata": {},
     "outputs": [
      {
       "output_type": "stream",
       "stream": "stdout",
       "text": [
        "world bank data\n",
        "     country  date  population\n",
        "1  Australia  2012    22722000\n",
        "2  Australia  2011    22340000\n",
        "3  Australia  2010    22031800\n",
        "4  Australia  2009    21691700\n",
        "5  Australia  2008    21249200 \n",
        "\n"
       ]
      }
     ],
     "prompt_number": 16
    },
    {
     "cell_type": "markdown",
     "metadata": {},
     "source": [
      "In step 17 we get to see some ugly stuff. The world bank country names are encoded differently than my olympic country names (the u stands for unicode). Instead of dealing with this programatically, I'm just going to eyeball compare the two countries that I have problems with to the list of country names I have and I see that South Korea and Slovakia are the issues. There are a variety of ways to accomplish this in Excel but pivot tables with sorts and filters would probably be the way I would approach this."
     ]
    },
    {
     "cell_type": "code",
     "collapsed": false,
     "input": [
      "pop = pd.merge(pop, ioc_iso, left_on = 'country', right_on='name', how='left')\n",
      "print 'countries without names', \\\n",
      "    pop[pop.name.isnull()]['country'].unique()\n",
      "print 'country name list', \\\n",
      "    data['name'].unique(), '\\n'"
     ],
     "language": "python",
     "metadata": {},
     "outputs": [
      {
       "output_type": "stream",
       "stream": "stdout",
       "text": [
        "countries without names [u'Korea, Rep.' u'Slovak Republic']\n",
        "country name list ['Austria' 'Belgium' 'Canada' 'Finland' 'France' 'United Kingdom' 'Norway'\n",
        " 'Switzerland' 'Sweden' 'United States' 'Germany' 'Italy' 'Netherlands'\n",
        " 'Japan' 'Poland' 'Bulgaria' 'China' 'Korea, Republic of' 'Australia'\n",
        " 'Belarus' 'Kazakhstan' 'Russian Federation' 'Slovenia' 'Ukraine'\n",
        " 'Uzbekistan' 'Czech Republic' 'Denmark' 'Croatia' 'Estonia' 'Latvia'\n",
        " 'Slovakia'] \n",
        "\n"
       ]
      }
     ],
     "prompt_number": 17
    },
    {
     "cell_type": "markdown",
     "metadata": {},
     "source": [
      "The fix in step 18, is fairly simple. I correct the way the country names are stored in my dataset, undo the join by dropping the columns created in the prior join and the redo the join. Once again, in Excel I would be using Find/Replace."
     ]
    },
    {
     "cell_type": "code",
     "collapsed": false,
     "input": [
      "pop['country'].replace('Korea, Rep.', 'Korea, Republic of', inplace = True)\n",
      "pop['country'].replace('Slovak Republic', 'Slovakia', inplace = True)\n",
      "pop.drop(['name', 'iso3', 'noc'], axis = 1, inplace = True)\n",
      "pop = pd.merge(pop, ioc_iso, left_on = 'country', right_on='name', how='left')"
     ],
     "language": "python",
     "metadata": {},
     "outputs": [],
     "prompt_number": 18
    },
    {
     "cell_type": "markdown",
     "metadata": {},
     "source": [
      "In step 19, I'm making another executive decision. My population variable year will represent a two year lag to my olympic year (e.g., olympic medals from 2014 will be compared to population from 2012). Given this is an school project, I would probably want to make up some BS around the concept that the economic effects of population are not fully realized for two years, but the reality is I just don't have data for the 2014 olympics. There are obviously other ways to handle this but the professor is probably grading so many of these things he won't even notice.\n",
      "\n",
      "I also get rid of extraneous data, merge the population data with my olympic medal data and take a quick look before I write this beast out to a file. In Excel this would be more cutting, copying, pasting and a column formula where pop2 = pop + 2."
     ]
    },
    {
     "cell_type": "code",
     "collapsed": false,
     "input": [
      "pop['date'] = pop['date'].astype('int') + 2\n",
      "pop.rename(columns={'date':'year'}, inplace=True)\n",
      "pop.rename(columns={'population':'pop2'}, inplace=True)\n",
      "pop.drop(['country','iso3','name'], axis=1, inplace=True)\n",
      "data = pd.merge(data, pop, how='left', on=['year','noc'])\n",
      "data.drop(['iso3','name'], axis = 1, inplace=True)\n",
      "print data.head().to_string()"
     ],
     "language": "python",
     "metadata": {},
     "outputs": [
      {
       "output_type": "stream",
       "stream": "stdout",
       "text": [
        "   count  country   medal  noc  year     pop2\n",
        "0      4  Austria  Bronze  AUT  1994  7840709\n",
        "1      2  Austria    Gold  AUT  1994  7840709\n",
        "2      3  Austria  Silver  AUT  1994  7840709\n",
        "3      9  Austria  Bronze  AUT  1998  7959017\n",
        "4      3  Austria    Gold  AUT  1998  7959017\n"
       ]
      }
     ],
     "prompt_number": 19
    },
    {
     "cell_type": "markdown",
     "metadata": {},
     "source": [
      "Finally, in step 20 I write this out to a csv file for import into Tableau. Timewise, the code took me about fifteen minutes to write...the explanation took about five hours. If I did this all in Excel and OpenTransform (minus the explanation) it would have taken several hours."
     ]
    },
    {
     "cell_type": "code",
     "collapsed": false,
     "input": [
      "data.to_csv(path + 'popdata.csv', index=False)"
     ],
     "language": "python",
     "metadata": {},
     "outputs": [],
     "prompt_number": 20
    },
    {
     "cell_type": "markdown",
     "metadata": {},
     "source": [
      "Hopefully, this walkthrough shows you the value of learning a programming/scripting language that is geared towards working with data. If you were having problems cleaning/transforming your data, most of the steps (i.e., not the actual code) should give you an idea of how to accomplish the things you might have been having trouble with.\n",
      "\n",
      "--James"
     ]
    }
   ],
   "metadata": {}
  }
 ]
}